{
 "cells": [
  {
   "cell_type": "markdown",
   "id": "8ce53f18-b484-4932-9f26-7f46fdad0f51",
   "metadata": {
    "jp-MarkdownHeadingCollapsed": true
   },
   "source": [
    "# Data Science Tools and Ecosystem"
   ]
  },
  {
   "cell_type": "markdown",
   "id": "442b923b-e806-47b9-982e-647498e71ab3",
   "metadata": {
    "jp-MarkdownHeadingCollapsed": true
   },
   "source": [
    "# Introduction\n",
    "This notebook provides an overview of various tools and exercises related to data science. It includes a list of programming languages, libraries, and tools commonly used in the field, along with examples of basic arithmetic operations."
   ]
  },
  {
   "cell_type": "markdown",
   "id": "006c5470-7c2b-424a-a3de-270cb1189d98",
   "metadata": {
    "jp-MarkdownHeadingCollapsed": true
   },
   "source": [
    "# Some of the popular languages that Data Scientists use are:\n",
    "## Data Science Languages\n",
    "- Python\n",
    "- R\n",
    "- SQL\n",
    "- Julia\n",
    "- Scala"
   ]
  },
  {
   "cell_type": "markdown",
   "id": "fc2eaea3-9686-4d74-a240-9b668cad3cc0",
   "metadata": {},
   "source": [
    "# Some of the commonly used libraries used by Data Scientists include:\n",
    "- NumPy\n",
    "- Pandas\n",
    "- Matplotlib\n",
    "- Scikit-learn\n",
    "- TensorFlow"
   ]
  },
  {
   "cell_type": "markdown",
   "id": "9e708907-4c61-4baf-9a36-239f4afe11df",
   "metadata": {},
   "source": [
    "## Data Science Tools\n",
    "\n",
    "| Data Science Tools         |\n",
    "|----------------------------|\n",
    "| Jupyter Notebook           |\n",
    "| RStudio                    |\n",
    "| Apache Zeppelin            |\n"
   ]
  },
  {
   "cell_type": "markdown",
   "id": "1c57fac0-6ad8-4cfc-8a57-e85e45c32dd4",
   "metadata": {},
   "source": [
    "### Below are a few examples of evaluating arithmetic expressions in Python.\n"
   ]
  },
  {
   "cell_type": "markdown",
   "id": "f7040ab6-4409-48e9-85ba-a71195a4da1b",
   "metadata": {},
   "source": [
    "# This will convert 200 minutes to hours by dividing by 60."
   ]
  },
  {
   "cell_type": "code",
   "execution_count": 3,
   "id": "cf82ccfd-d40e-4b1e-8620-e896714a581e",
   "metadata": {},
   "outputs": [
    {
     "data": {
      "text/plain": [
       "3.3333333333333335"
      ]
     },
     "execution_count": 3,
     "metadata": {},
     "output_type": "execute_result"
    }
   ],
   "source": [
    "minutes = 200\n",
    "hours = minutes / 60\n",
    "hours"
   ]
  },
  {
   "cell_type": "markdown",
   "id": "f491ea69-b275-406e-965c-6959df70cafb",
   "metadata": {},
   "source": [
    "**Objectives:**\r\n",
    "\r\n",
    "- List popular languages for Data Science\r\n",
    "- Identify common libraries used in Data Science\r\n",
    "- Explore development environment tools for Data Science\r\n",
    "- Understand basic arithmetic operations in Python\r\n",
    "- Convert minutes into hours using Python code\r\n"
   ]
  },
  {
   "cell_type": "markdown",
   "id": "22bee692-d0b4-458c-9541-c2dc513dde89",
   "metadata": {},
   "source": [
    "## Author\n",
    "\n",
    "Abdul Rehman"
   ]
  },
  {
   "cell_type": "code",
   "execution_count": null,
   "id": "cb20dd60-27eb-4832-a8c5-b2427b120679",
   "metadata": {},
   "outputs": [],
   "source": []
  }
 ],
 "metadata": {
  "kernelspec": {
   "display_name": "Python 3 (ipykernel)",
   "language": "python",
   "name": "python3"
  },
  "language_info": {
   "codemirror_mode": {
    "name": "ipython",
    "version": 3
   },
   "file_extension": ".py",
   "mimetype": "text/x-python",
   "name": "python",
   "nbconvert_exporter": "python",
   "pygments_lexer": "ipython3",
   "version": "3.12.4"
  }
 },
 "nbformat": 4,
 "nbformat_minor": 5
}
